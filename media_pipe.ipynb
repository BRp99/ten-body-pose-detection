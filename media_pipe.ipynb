{
 "cells": [
  {
   "cell_type": "code",
   "execution_count": 1,
   "id": "e84bf875-8844-4465-8fce-befd810c34ce",
   "metadata": {},
   "outputs": [],
   "source": [
    "import cv2\n",
    "import mediapipe as mp\n",
    "import os\n",
    "import time"
   ]
  },
  {
   "cell_type": "code",
   "execution_count": 3,
   "id": "1d85dead-a920-4349-8816-aeaa1e4f240c",
   "metadata": {},
   "outputs": [
    {
     "name": "stdout",
     "output_type": "stream",
     "text": [
      "img1.jpg process in 0.2119 seconds\n",
      "img10.jpg has no landmarks\n",
      "img2.jpg has no landmarks\n",
      "img3.jpg process in 0.0519 seconds\n",
      "img4.jpg process in 0.0312 seconds\n",
      "img5.jpg process in 0.0312 seconds\n",
      "img6.jpg process in 0.0347 seconds\n",
      "img7.jpg process in 0.0281 seconds\n",
      "img8.jpg process in 0.0156 seconds\n",
      "img9.jpg process in 0.0312 seconds\n"
     ]
    }
   ],
   "source": [
    "mp_pose = mp.solutions.pose\n",
    "pose = mp_pose.Pose()\n",
    "\n",
    "inputDir = \"./images/in\"\n",
    "outputDir = \"./images/out\"\n",
    "\n",
    "for filename in os.listdir(inputDir):\n",
    "    if filename.endswith(\".jpg\"):\n",
    "        image_path = os.path.join(inputDir, filename)\n",
    "\n",
    "\n",
    "        start_time = time.time()\n",
    "       \n",
    "        image = cv2.imread(image_path)\n",
    "        image_rgb = cv2.cvtColor(image, cv2.COLOR_BGR2RGB)\n",
    "\n",
    "    \n",
    "        results = pose.process(image_rgb)\n",
    "\n",
    "        end_time = time.time()\n",
    "       \n",
    "        if results.pose_landmarks:\n",
    "            mp.solutions.drawing_utils.draw_landmarks(\n",
    "                image, results.pose_landmarks, mp_pose.POSE_CONNECTIONS)\n",
    "\n",
    "            outPath = os.path.join(outputDir, f\"landmarks_of_{filename}\")\n",
    "            cv2.imwrite(outPath, image)\n",
    "\n",
    "            processing_time = end_time - start_time\n",
    "            print(f\"{filename} process in {processing_time:.4f} seconds\")\n",
    "        else:\n",
    "            results.pose_landmarks\n",
    "            print(filename + \" has no landmarks\")\n",
    "\n",
    "pose.close()"
   ]
  },
  {
   "cell_type": "code",
   "execution_count": null,
   "id": "dec92f59-a2ca-4cc7-aa94-d923bb60974d",
   "metadata": {},
   "outputs": [],
   "source": []
  }
 ],
 "metadata": {
  "kernelspec": {
   "display_name": "Python 3 (ipykernel)",
   "language": "python",
   "name": "python3"
  },
  "language_info": {
   "codemirror_mode": {
    "name": "ipython",
    "version": 3
   },
   "file_extension": ".py",
   "mimetype": "text/x-python",
   "name": "python",
   "nbconvert_exporter": "python",
   "pygments_lexer": "ipython3",
   "version": "3.11.0"
  }
 },
 "nbformat": 4,
 "nbformat_minor": 5
}
