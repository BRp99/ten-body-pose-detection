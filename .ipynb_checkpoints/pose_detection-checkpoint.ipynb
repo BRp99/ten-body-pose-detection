{
 "cells": [
  {
   "cell_type": "code",
   "execution_count": 13,
   "id": "e84bf875-8844-4465-8fce-befd810c34ce",
   "metadata": {},
   "outputs": [],
   "source": [
    "import cv2\n",
    "import mediapipe as mp\n",
    "import os"
   ]
  },
  {
   "cell_type": "code",
   "execution_count": 23,
   "id": "1d85dead-a920-4349-8816-aeaa1e4f240c",
   "metadata": {},
   "outputs": [
    {
     "name": "stdout",
     "output_type": "stream",
     "text": [
      "img10.jpg has no landmarks\n",
      "img2.jpg has no landmarks\n"
     ]
    }
   ],
   "source": [
    "mp_pose = mp.solutions.pose\n",
    "pose = mp_pose.Pose()\n",
    "\n",
    "inputDir = \"./images/in\"\n",
    "outputDir = \"./images/out\"\n",
    "\n",
    "for filename in os.listdir(inputDir):\n",
    "    if filename.endswith(\".jpg\") or filename.endswith(\".png\"):\n",
    "        image_path = os.path.join(inputDir, filename)\n",
    "\n",
    "       \n",
    "        image = cv2.imread(image_path)\n",
    "        image_rgb = cv2.cvtColor(image, cv2.COLOR_BGR2RGB)\n",
    "\n",
    "    \n",
    "        results = pose.process(image_rgb)\n",
    "\n",
    "       \n",
    "        if results.pose_landmarks:\n",
    "            \n",
    "            mp.solutions.drawing_utils.draw_landmarks(\n",
    "                image, results.pose_landmarks, mp_pose.POSE_CONNECTIONS)\n",
    "\n",
    "            outPath = os.path.join(outputDir, f\"landmarks_of_{filename}\")\n",
    "            cv2.imwrite(outPath, image)\n",
    "        else:\n",
    "            results.pose_landmarks\n",
    "            print(filename + \" has no landmarks\")\n",
    "\n",
    "pose.close()"
   ]
  },
  {
   "cell_type": "code",
   "execution_count": null,
   "id": "dec92f59-a2ca-4cc7-aa94-d923bb60974d",
   "metadata": {},
   "outputs": [],
   "source": []
  }
 ],
 "metadata": {
  "kernelspec": {
   "display_name": "Python 3 (ipykernel)",
   "language": "python",
   "name": "python3"
  },
  "language_info": {
   "codemirror_mode": {
    "name": "ipython",
    "version": 3
   },
   "file_extension": ".py",
   "mimetype": "text/x-python",
   "name": "python",
   "nbconvert_exporter": "python",
   "pygments_lexer": "ipython3",
   "version": "3.11.0"
  }
 },
 "nbformat": 4,
 "nbformat_minor": 5
}
